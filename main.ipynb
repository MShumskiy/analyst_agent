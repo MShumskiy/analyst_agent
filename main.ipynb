{
 "cells": [
  {
   "cell_type": "code",
   "execution_count": 2,
   "metadata": {},
   "outputs": [],
   "source": [
    "from tools.Tools import *\n",
    "from agent import Agent\n",
    "from tools.Prompts import *\n"
   ]
  },
  {
   "cell_type": "code",
   "execution_count": 2,
   "metadata": {},
   "outputs": [
    {
     "name": "stderr",
     "output_type": "stream",
     "text": [
      "Downloading shards: 100%|██████████| 2/2 [00:00<00:00, 500.93it/s]\n",
      "Loading checkpoint shards: 100%|██████████| 2/2 [00:02<00:00,  1.34s/it]\n"
     ]
    }
   ],
   "source": [
    "tools = {\n",
    "        'lin_reg':lin_reg\n",
    "}\n",
    "\n",
    "model_name = 'microsoft/Phi-3-mini-4k-instruct'\n",
    "\n",
    "\n",
    "agent = Agent(system_prompt,model_name,tools)\n",
    "\n",
    "agent.chat()"
   ]
  },
  {
   "cell_type": "code",
   "execution_count": 4,
   "metadata": {},
   "outputs": [
    {
     "name": "stdout",
     "output_type": "stream",
     "text": [
      "\u001b[33mLLM has been successfully deactivated.\u001b[0m\n"
     ]
    },
    {
     "data": {
      "text/plain": [
       "[]"
      ]
     },
     "execution_count": 4,
     "metadata": {},
     "output_type": "execute_result"
    }
   ],
   "source": [
    "agent.chat()"
   ]
  },
  {
   "cell_type": "code",
   "execution_count": 4,
   "metadata": {},
   "outputs": [
    {
     "name": "stdout",
     "output_type": "stream",
     "text": [
      "\u001b[31mError during deactivation: 'Agent' object has no attribute 'model'\u001b[0m\n"
     ]
    },
    {
     "ename": "",
     "evalue": "",
     "output_type": "error",
     "traceback": [
      "\u001b[1;31mThe Kernel crashed while executing code in the the current cell or a previous cell. Please review the code in the cell(s) to identify a possible cause of the failure. Click <a href='https://aka.ms/vscodeJupyterKernelCrash'>here</a> for more info. View Jupyter <a href='command:jupyter.viewOutput'>log</a> for further details."
     ]
    }
   ],
   "source": [
    "agent.deactivate()"
   ]
  },
  {
   "cell_type": "code",
   "execution_count": null,
   "metadata": {},
   "outputs": [
    {
     "name": "stderr",
     "output_type": "stream",
     "text": [
      "g:\\projects\\ai_based\\agent\\a_3_1_git\\analyst_agent\\.venv\\Lib\\site-packages\\tqdm\\auto.py:21: TqdmWarning: IProgress not found. Please update jupyter and ipywidgets. See https://ipywidgets.readthedocs.io/en/stable/user_install.html\n",
      "  from .autonotebook import tqdm as notebook_tqdm\n",
      "g:\\projects\\ai_based\\agent\\a_3_1_git\\analyst_agent\\.venv\\Lib\\site-packages\\transformers\\utils\\hub.py:124: FutureWarning: Using `TRANSFORMERS_CACHE` is deprecated and will be removed in v5 of Transformers. Use `HF_HOME` instead.\n",
      "  warnings.warn(\n",
      "Downloading shards: 100%|██████████| 2/2 [00:00<00:00, 1950.39it/s]\n",
      "Loading checkpoint shards: 100%|██████████| 2/2 [00:24<00:00, 12.44s/it]\n"
     ]
    },
    {
     "name": "stdout",
     "output_type": "stream",
     "text": [
      "Running on local URL:  http://127.0.0.1:7860\n",
      "\n",
      "Could not create share link. Please check your internet connection or our status page: https://status.gradio.app.\n"
     ]
    },
    {
     "data": {
      "text/html": [
       "<div><iframe src=\"http://127.0.0.1:7860/\" width=\"100%\" height=\"500\" allow=\"autoplay; camera; microphone; clipboard-read; clipboard-write;\" frameborder=\"0\" allowfullscreen></iframe></div>"
      ],
      "text/plain": [
       "<IPython.core.display.HTML object>"
      ]
     },
     "metadata": {},
     "output_type": "display_data"
    },
    {
     "data": {
      "text/plain": []
     },
     "execution_count": 1,
     "metadata": {},
     "output_type": "execute_result"
    },
    {
     "name": "stderr",
     "output_type": "stream",
     "text": [
      "Downloading shards: 100%|██████████| 10/10 [00:00<00:00, 3316.97it/s]\n",
      "Loading checkpoint shards: 100%|██████████| 10/10 [00:57<00:00,  5.74s/it]\n"
     ]
    }
   ],
   "source": [
    "# frontend.py\n",
    "\n",
    "import gradio as gr\n",
    "from agent import Agent  # Ensure agent.py is in the same directory or adjust the import path\n",
    "import requests\n",
    "import datetime\n",
    "from tools.Tools import *\n",
    "from tools.Prompts import *\n",
    "\n",
    "\n",
    "# Initialize your Agent\n",
    "tools = {\n",
    "        'lin_reg':lin_reg\n",
    "}\n",
    "\n",
    "model_name = 'microsoft/Phi-3-mini-4k-instruct'\n",
    "\n",
    "agent = Agent(system_prompt, model_name, tools)\n",
    "\n",
    "def chat_interface(user_input, history):\n",
    "    \"\"\"\n",
    "    Gradio interface function to handle user input and agent response.\n",
    "\n",
    "    Parameters:\n",
    "    user_input (str): The user's input prompt.\n",
    "    history (list): The conversation history.\n",
    "\n",
    "    Returns:\n",
    "    tuple: Updated history and the latest response along with image if any.\n",
    "    \"\"\"\n",
    "    response, image_path = agent.process_prompt(user_input)\n",
    "    history = history + [(user_input, response)]\n",
    "    if image_path and os.path.exists(image_path):\n",
    "        return history, history, image_path\n",
    "    else:\n",
    "        return history, history, None\n",
    "\n",
    "# Define Gradio Blocks\n",
    "with gr.Blocks() as demo:\n",
    "    gr.Markdown(\"<h1 align='center'>AI Agent Chat Interface</h1>\")\n",
    "    with gr.Row():\n",
    "        with gr.Column():\n",
    "            chatbot = gr.Chatbot()\n",
    "            user_input = gr.Textbox(show_label=False, placeholder=\"Enter your message here...\")\n",
    "            submit = gr.Button(\"Send\")\n",
    "        with gr.Column():\n",
    "            image_output = gr.Image(label=\"Generated Plot\")\n",
    "\n",
    "    # Initialize conversation history\n",
    "    state = gr.State([])\n",
    "\n",
    "    submit.click(\n",
    "        fn=chat_interface,\n",
    "        inputs=[user_input, state],\n",
    "        outputs=[state, chatbot, image_output],\n",
    "    )\n",
    "    user_input.submit(\n",
    "        fn=chat_interface,\n",
    "        inputs=[user_input, state],\n",
    "        outputs=[state, chatbot, image_output],\n",
    "    )\n",
    "\n",
    "demo.launch(share=True)\n"
   ]
  },
  {
   "cell_type": "code",
   "execution_count": 4,
   "metadata": {},
   "outputs": [
    {
     "name": "stdout",
     "output_type": "stream",
     "text": [
      "Requirement already satisfied: gradio in .\\.venv\\lib\\site-packages (4.37.1)\n",
      "Collecting gradio\n",
      "  Downloading gradio-4.44.0-py3-none-any.whl.metadata (15 kB)\n",
      "Requirement already satisfied: aiofiles<24.0,>=22.0 in .\\.venv\\lib\\site-packages (from gradio) (23.2.1)\n",
      "Requirement already satisfied: anyio<5.0,>=3.0 in .\\.venv\\lib\\site-packages (from gradio) (4.4.0)\n",
      "Requirement already satisfied: fastapi<1.0 in .\\.venv\\lib\\site-packages (from gradio) (0.111.0)\n",
      "Requirement already satisfied: ffmpy in .\\.venv\\lib\\site-packages (from gradio) (0.3.2)\n",
      "Collecting gradio-client==1.3.0 (from gradio)\n",
      "  Downloading gradio_client-1.3.0-py3-none-any.whl.metadata (7.1 kB)\n",
      "Requirement already satisfied: httpx>=0.24.1 in .\\.venv\\lib\\site-packages (from gradio) (0.27.0)\n",
      "Requirement already satisfied: huggingface-hub>=0.19.3 in .\\.venv\\lib\\site-packages (from gradio) (0.23.4)\n",
      "Requirement already satisfied: importlib-resources<7.0,>=1.3 in .\\.venv\\lib\\site-packages (from gradio) (6.4.0)\n",
      "Requirement already satisfied: jinja2<4.0 in .\\.venv\\lib\\site-packages (from gradio) (3.1.4)\n",
      "Requirement already satisfied: markupsafe~=2.0 in .\\.venv\\lib\\site-packages (from gradio) (2.1.5)\n",
      "Requirement already satisfied: matplotlib~=3.0 in .\\.venv\\lib\\site-packages (from gradio) (3.9.0)\n",
      "Requirement already satisfied: numpy<3.0,>=1.0 in .\\.venv\\lib\\site-packages (from gradio) (1.26.4)\n",
      "Requirement already satisfied: orjson~=3.0 in .\\.venv\\lib\\site-packages (from gradio) (3.10.5)\n",
      "Requirement already satisfied: packaging in .\\.venv\\lib\\site-packages (from gradio) (24.0)\n",
      "Requirement already satisfied: pandas<3.0,>=1.0 in .\\.venv\\lib\\site-packages (from gradio) (2.2.1)\n",
      "Requirement already satisfied: pillow<11.0,>=8.0 in .\\.venv\\lib\\site-packages (from gradio) (10.3.0)\n",
      "Requirement already satisfied: pydantic>=2.0 in .\\.venv\\lib\\site-packages (from gradio) (2.7.3)\n",
      "Requirement already satisfied: pydub in .\\.venv\\lib\\site-packages (from gradio) (0.25.1)\n",
      "Requirement already satisfied: python-multipart>=0.0.9 in .\\.venv\\lib\\site-packages (from gradio) (0.0.9)\n",
      "Requirement already satisfied: pyyaml<7.0,>=5.0 in .\\.venv\\lib\\site-packages (from gradio) (6.0.1)\n",
      "Requirement already satisfied: ruff>=0.2.2 in .\\.venv\\lib\\site-packages (from gradio) (0.4.10)\n",
      "Requirement already satisfied: semantic-version~=2.0 in .\\.venv\\lib\\site-packages (from gradio) (2.10.0)\n",
      "Requirement already satisfied: tomlkit==0.12.0 in .\\.venv\\lib\\site-packages (from gradio) (0.12.0)\n",
      "Requirement already satisfied: typer<1.0,>=0.12 in .\\.venv\\lib\\site-packages (from gradio) (0.12.3)\n",
      "Requirement already satisfied: typing-extensions~=4.0 in .\\.venv\\lib\\site-packages (from gradio) (4.12.1)\n",
      "Requirement already satisfied: urllib3~=2.0 in .\\.venv\\lib\\site-packages (from gradio) (2.2.1)\n",
      "Requirement already satisfied: uvicorn>=0.14.0 in .\\.venv\\lib\\site-packages (from gradio) (0.30.1)\n",
      "Requirement already satisfied: fsspec in .\\.venv\\lib\\site-packages (from gradio-client==1.3.0->gradio) (2024.6.0)\n",
      "Requirement already satisfied: websockets<13.0,>=10.0 in .\\.venv\\lib\\site-packages (from gradio-client==1.3.0->gradio) (11.0.3)\n",
      "Requirement already satisfied: idna>=2.8 in .\\.venv\\lib\\site-packages (from anyio<5.0,>=3.0->gradio) (3.6)\n",
      "Requirement already satisfied: sniffio>=1.1 in .\\.venv\\lib\\site-packages (from anyio<5.0,>=3.0->gradio) (1.3.1)\n",
      "Requirement already satisfied: starlette<0.38.0,>=0.37.2 in .\\.venv\\lib\\site-packages (from fastapi<1.0->gradio) (0.37.2)\n",
      "Requirement already satisfied: fastapi-cli>=0.0.2 in .\\.venv\\lib\\site-packages (from fastapi<1.0->gradio) (0.0.4)\n",
      "Requirement already satisfied: ujson!=4.0.2,!=4.1.0,!=4.2.0,!=4.3.0,!=5.0.0,!=5.1.0,>=4.0.1 in .\\.venv\\lib\\site-packages (from fastapi<1.0->gradio) (5.10.0)\n",
      "Requirement already satisfied: email_validator>=2.0.0 in .\\.venv\\lib\\site-packages (from fastapi<1.0->gradio) (2.2.0)\n",
      "Requirement already satisfied: certifi in .\\.venv\\lib\\site-packages (from httpx>=0.24.1->gradio) (2024.2.2)\n",
      "Requirement already satisfied: httpcore==1.* in .\\.venv\\lib\\site-packages (from httpx>=0.24.1->gradio) (1.0.5)\n",
      "Requirement already satisfied: h11<0.15,>=0.13 in .\\.venv\\lib\\site-packages (from httpcore==1.*->httpx>=0.24.1->gradio) (0.14.0)\n",
      "Requirement already satisfied: filelock in .\\.venv\\lib\\site-packages (from huggingface-hub>=0.19.3->gradio) (3.15.4)\n",
      "Requirement already satisfied: requests in .\\.venv\\lib\\site-packages (from huggingface-hub>=0.19.3->gradio) (2.31.0)\n",
      "Requirement already satisfied: tqdm>=4.42.1 in .\\.venv\\lib\\site-packages (from huggingface-hub>=0.19.3->gradio) (4.66.4)\n",
      "Requirement already satisfied: contourpy>=1.0.1 in .\\.venv\\lib\\site-packages (from matplotlib~=3.0->gradio) (1.2.1)\n",
      "Requirement already satisfied: cycler>=0.10 in .\\.venv\\lib\\site-packages (from matplotlib~=3.0->gradio) (0.12.1)\n",
      "Requirement already satisfied: fonttools>=4.22.0 in .\\.venv\\lib\\site-packages (from matplotlib~=3.0->gradio) (4.53.0)\n",
      "Requirement already satisfied: kiwisolver>=1.3.1 in .\\.venv\\lib\\site-packages (from matplotlib~=3.0->gradio) (1.4.5)\n",
      "Requirement already satisfied: pyparsing>=2.3.1 in .\\.venv\\lib\\site-packages (from matplotlib~=3.0->gradio) (3.1.2)\n",
      "Requirement already satisfied: python-dateutil>=2.7 in .\\.venv\\lib\\site-packages (from matplotlib~=3.0->gradio) (2.9.0.post0)\n",
      "Requirement already satisfied: pytz>=2020.1 in .\\.venv\\lib\\site-packages (from pandas<3.0,>=1.0->gradio) (2024.1)\n",
      "Requirement already satisfied: tzdata>=2022.7 in .\\.venv\\lib\\site-packages (from pandas<3.0,>=1.0->gradio) (2024.1)\n",
      "Requirement already satisfied: annotated-types>=0.4.0 in .\\.venv\\lib\\site-packages (from pydantic>=2.0->gradio) (0.7.0)\n",
      "Requirement already satisfied: pydantic-core==2.18.4 in .\\.venv\\lib\\site-packages (from pydantic>=2.0->gradio) (2.18.4)\n",
      "Requirement already satisfied: click>=8.0.0 in .\\.venv\\lib\\site-packages (from typer<1.0,>=0.12->gradio) (8.1.7)\n",
      "Requirement already satisfied: shellingham>=1.3.0 in .\\.venv\\lib\\site-packages (from typer<1.0,>=0.12->gradio) (1.5.4)\n",
      "Requirement already satisfied: rich>=10.11.0 in .\\.venv\\lib\\site-packages (from typer<1.0,>=0.12->gradio) (13.7.1)\n",
      "Requirement already satisfied: colorama in .\\.venv\\lib\\site-packages (from click>=8.0.0->typer<1.0,>=0.12->gradio) (0.4.6)\n",
      "Requirement already satisfied: dnspython>=2.0.0 in .\\.venv\\lib\\site-packages (from email_validator>=2.0.0->fastapi<1.0->gradio) (2.6.1)\n",
      "Requirement already satisfied: six>=1.5 in .\\.venv\\lib\\site-packages (from python-dateutil>=2.7->matplotlib~=3.0->gradio) (1.16.0)\n",
      "Requirement already satisfied: markdown-it-py>=2.2.0 in .\\.venv\\lib\\site-packages (from rich>=10.11.0->typer<1.0,>=0.12->gradio) (3.0.0)\n",
      "Requirement already satisfied: pygments<3.0.0,>=2.13.0 in .\\.venv\\lib\\site-packages (from rich>=10.11.0->typer<1.0,>=0.12->gradio) (2.18.0)\n",
      "Requirement already satisfied: httptools>=0.5.0 in .\\.venv\\lib\\site-packages (from uvicorn[standard]>=0.12.0->fastapi<1.0->gradio) (0.6.1)\n",
      "Requirement already satisfied: python-dotenv>=0.13 in .\\.venv\\lib\\site-packages (from uvicorn[standard]>=0.12.0->fastapi<1.0->gradio) (1.0.1)\n",
      "Requirement already satisfied: watchfiles>=0.13 in .\\.venv\\lib\\site-packages (from uvicorn[standard]>=0.12.0->fastapi<1.0->gradio) (0.22.0)\n",
      "Requirement already satisfied: charset-normalizer<4,>=2 in .\\.venv\\lib\\site-packages (from requests->huggingface-hub>=0.19.3->gradio) (3.3.2)\n",
      "Requirement already satisfied: mdurl~=0.1 in .\\.venv\\lib\\site-packages (from markdown-it-py>=2.2.0->rich>=10.11.0->typer<1.0,>=0.12->gradio) (0.1.2)\n",
      "Downloading gradio-4.44.0-py3-none-any.whl (18.1 MB)\n",
      "   ---------------------------------------- 0.0/18.1 MB ? eta -:--:--\n",
      "   ---------------- ----------------------- 7.3/18.1 MB 50.2 MB/s eta 0:00:01\n",
      "   ---------------------------------------  17.8/18.1 MB 48.8 MB/s eta 0:00:01\n",
      "   ---------------------------------------- 18.1/18.1 MB 39.2 MB/s eta 0:00:00\n",
      "Downloading gradio_client-1.3.0-py3-none-any.whl (318 kB)\n",
      "Installing collected packages: gradio-client, gradio\n",
      "  Attempting uninstall: gradio-client\n",
      "    Found existing installation: gradio_client 1.0.2\n",
      "    Uninstalling gradio_client-1.0.2:\n",
      "      Successfully uninstalled gradio_client-1.0.2\n",
      "  Attempting uninstall: gradio\n",
      "    Found existing installation: gradio 4.37.1\n",
      "    Uninstalling gradio-4.37.1:\n",
      "      Successfully uninstalled gradio-4.37.1\n",
      "Successfully installed gradio-4.44.0 gradio-client-1.3.0\n",
      "Note: you may need to restart the kernel to use updated packages.\n"
     ]
    }
   ],
   "source": [
    "pip install --upgrade gradio"
   ]
  },
  {
   "cell_type": "code",
   "execution_count": 6,
   "metadata": {},
   "outputs": [
    {
     "data": {
      "text/plain": [
       "'4.37.1'"
      ]
     },
     "execution_count": 6,
     "metadata": {},
     "output_type": "execute_result"
    }
   ],
   "source": [
    "gr.__version__"
   ]
  },
  {
   "cell_type": "code",
   "execution_count": null,
   "metadata": {},
   "outputs": [],
   "source": []
  }
 ],
 "metadata": {
  "kernelspec": {
   "display_name": "ai_env",
   "language": "python",
   "name": "python3"
  },
  "language_info": {
   "codemirror_mode": {
    "name": "ipython",
    "version": 3
   },
   "file_extension": ".py",
   "mimetype": "text/x-python",
   "name": "python",
   "nbconvert_exporter": "python",
   "pygments_lexer": "ipython3",
   "version": "3.11.7"
  }
 },
 "nbformat": 4,
 "nbformat_minor": 2
}
